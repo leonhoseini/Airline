{
 "cells": [
  {
   "cell_type": "code",
   "execution_count": 189,
   "metadata": {},
   "outputs": [],
   "source": [
    "from numpy import *\n",
    "from pandas import *\n",
    "from matplotlib.pyplot import *\n",
    "import math\n",
    "from keras.models import Sequential\n",
    "from keras.layers import Dense, LSTM\n",
    "from sklearn.preprocessing import MinMaxScaler\n",
    "from sklearn.metrics import mean_squared_error\n",
    "import warnings\n",
    "warnings.filterwarnings('ignore')"
   ]
  },
  {
   "cell_type": "code",
   "execution_count": 190,
   "metadata": {},
   "outputs": [
    {
     "data": {
      "text/html": [
       "<div>\n",
       "<style scoped>\n",
       "    .dataframe tbody tr th:only-of-type {\n",
       "        vertical-align: middle;\n",
       "    }\n",
       "\n",
       "    .dataframe tbody tr th {\n",
       "        vertical-align: top;\n",
       "    }\n",
       "\n",
       "    .dataframe thead th {\n",
       "        text-align: right;\n",
       "    }\n",
       "</style>\n",
       "<table border=\"1\" class=\"dataframe\">\n",
       "  <thead>\n",
       "    <tr style=\"text-align: right;\">\n",
       "      <th></th>\n",
       "      <th>1970</th>\n",
       "      <th>1971</th>\n",
       "      <th>1972</th>\n",
       "      <th>1973</th>\n",
       "      <th>1974</th>\n",
       "      <th>1975</th>\n",
       "      <th>1976</th>\n",
       "      <th>1977</th>\n",
       "      <th>1978</th>\n",
       "      <th>1979</th>\n",
       "      <th>...</th>\n",
       "      <th>2009</th>\n",
       "      <th>2010</th>\n",
       "      <th>2011</th>\n",
       "      <th>2012</th>\n",
       "      <th>2013</th>\n",
       "      <th>2014</th>\n",
       "      <th>2015</th>\n",
       "      <th>2016</th>\n",
       "      <th>2017</th>\n",
       "      <th>2018</th>\n",
       "    </tr>\n",
       "  </thead>\n",
       "  <tbody>\n",
       "    <tr>\n",
       "      <th>0</th>\n",
       "      <td>1851922052</td>\n",
       "      <td>1981589524</td>\n",
       "      <td>1819357840</td>\n",
       "      <td>2390907400</td>\n",
       "      <td>2869879300</td>\n",
       "      <td>2985227800</td>\n",
       "      <td>3275176876</td>\n",
       "      <td>3567328452</td>\n",
       "      <td>3995859224</td>\n",
       "      <td>4498595500</td>\n",
       "      <td>...</td>\n",
       "      <td>17674051771</td>\n",
       "      <td>21138977885</td>\n",
       "      <td>22669623140</td>\n",
       "      <td>23788961574</td>\n",
       "      <td>25194297122</td>\n",
       "      <td>26793537042</td>\n",
       "      <td>28951304362</td>\n",
       "      <td>31054721219</td>\n",
       "      <td>33507639791</td>\n",
       "      <td>35890948340</td>\n",
       "    </tr>\n",
       "  </tbody>\n",
       "</table>\n",
       "<p>1 rows × 49 columns</p>\n",
       "</div>"
      ],
      "text/plain": [
       "         1970        1971        1972        1973        1974        1975  \\\n",
       "0  1851922052  1981589524  1819357840  2390907400  2869879300  2985227800   \n",
       "\n",
       "         1976        1977        1978        1979  ...         2009  \\\n",
       "0  3275176876  3567328452  3995859224  4498595500  ...  17674051771   \n",
       "\n",
       "          2010         2011         2012         2013         2014  \\\n",
       "0  21138977885  22669623140  23788961574  25194297122  26793537042   \n",
       "\n",
       "          2015         2016         2017         2018  \n",
       "0  28951304362  31054721219  33507639791  35890948340  \n",
       "\n",
       "[1 rows x 49 columns]"
      ]
     },
     "execution_count": 190,
     "metadata": {},
     "output_type": "execute_result"
    }
   ],
   "source": [
    "data=read_csv('airline.csv')\n",
    "data.head()"
   ]
  },
  {
   "cell_type": "code",
   "execution_count": 191,
   "metadata": {},
   "outputs": [
    {
     "data": {
      "image/png": "[encoded data removed]",
      "text/plain": [
       "<Figure size 432x288 with 1 Axes>"
      ]
     },
     "metadata": {
      "needs_background": "light"
     },
     "output_type": "display_data"
    }
   ],
   "source": [
    "data=data.iloc[0].values\n",
    "plot(data)\n",
    "show()"
   ]
  },
  {
   "cell_type": "code",
   "execution_count": 192,
   "metadata": {},
   "outputs": [
    {
     "data": {
      "text/plain": [
       "(49, 1)"
      ]
     },
     "execution_count": 192,
     "metadata": {},
     "output_type": "execute_result"
    }
   ],
   "source": [
    "data=data.reshape(-1,1).astype('float32')\n",
    "data.shape"
   ]
  },
  {
   "cell_type": "code",
   "execution_count": 193,
   "metadata": {},
   "outputs": [
    {
     "data": {
      "text/plain": [
       "(49, 1)"
      ]
     },
     "execution_count": 193,
     "metadata": {},
     "output_type": "execute_result"
    }
   ],
   "source": [
    "scale=MinMaxScaler(feature_range=(0,1))\n",
    "dataset=scale.fit_transform(data)\n",
    "dataset.shape"
   ]
  },
  {
   "cell_type": "code",
   "execution_count": 194,
   "metadata": {},
   "outputs": [],
   "source": [
    "def creator (x,step):\n",
    "    X,y=[],[]\n",
    "    for i in range(len(x)-step-1): # -1 is vital to set the proper range\n",
    "        X.append(x[i:(i+step),0])\n",
    "        y.append(x[i+step,0])\n",
    "    return X, y\n",
    "\n",
    "def split(x,y,t_size=.3):\n",
    "    pos=int(round(len(x)*(1-t_size)))\n",
    "    xn,yn=x[:pos],y[:pos]\n",
    "    xt,yt=x[pos:],y[pos:]\n",
    "    return xn,yn,xt,yt,pos   "
   ]
  },
  {
   "cell_type": "code",
   "execution_count": 195,
   "metadata": {},
   "outputs": [
    {
     "name": "stdout",
     "output_type": "stream",
     "text": [
      "(47, 1) (47,)\n"
     ]
    }
   ],
   "source": [
    "step=1\n",
    "X,y=creator(dataset,step)\n",
    "X,y=matrix(X),y\n",
    "print(X.shape,shape(y))"
   ]
  },
  {
   "cell_type": "code",
   "execution_count": 196,
   "metadata": {},
   "outputs": [
    {
     "name": "stdout",
     "output_type": "stream",
     "text": [
      "(33, 1) (33,) (14, 1) (14,)\n"
     ]
    }
   ],
   "source": [
    "xn,yn,xt,yt,pos=split(X,y)\n",
    "print(xn.shape,shape(yn),xt.shape,shape(yt))"
   ]
  },
  {
   "cell_type": "code",
   "execution_count": 197,
   "metadata": {},
   "outputs": [],
   "source": [
    "y=reshape(y,(-1,1))\n",
    "yn=reshape(yn,(-1,1))\n",
    "yt=reshape(yt,(-1,1))"
   ]
  },
  {
   "cell_type": "code",
   "execution_count": 198,
   "metadata": {},
   "outputs": [
    {
     "name": "stdout",
     "output_type": "stream",
     "text": [
      "(33, 1) (14, 1) (47, 1) (33, 1) (14, 1)\n"
     ]
    }
   ],
   "source": [
    "print(xn.shape,xt.shape,y.shape,yn.shape,yt.shape)"
   ]
  },
  {
   "cell_type": "code",
   "execution_count": 229,
   "metadata": {},
   "outputs": [
    {
     "name": "stdout",
     "output_type": "stream",
     "text": [
      "Epoch 1/65\n",
      "33/33 [==============================] - 1s 23ms/step - loss: 0.0053\n",
      "Epoch 2/65\n",
      "33/33 [==============================] - 0s 2ms/step - loss: 0.0022\n",
      "Epoch 3/65\n",
      "33/33 [==============================] - 0s 2ms/step - loss: 0.0019\n",
      "Epoch 4/65\n",
      "33/33 [==============================] - 0s 2ms/step - loss: 0.0017\n",
      "Epoch 5/65\n",
      "33/33 [==============================] - 0s 2ms/step - loss: 0.0017\n",
      "Epoch 6/65\n",
      "33/33 [==============================] - 0s 2ms/step - loss: 0.0015\n",
      "Epoch 7/65\n",
      "33/33 [==============================] - 0s 2ms/step - loss: 0.0014\n",
      "Epoch 8/65\n",
      "33/33 [==============================] - 0s 2ms/step - loss: 0.0012\n",
      "Epoch 9/65\n",
      "33/33 [==============================] - 0s 2ms/step - loss: 0.0011\n",
      "Epoch 10/65\n",
      "33/33 [==============================] - 0s 2ms/step - loss: 0.0010\n",
      "Epoch 11/65\n",
      "33/33 [==============================] - 0s 2ms/step - loss: 9.5128e-04\n",
      "Epoch 12/65\n",
      "33/33 [==============================] - 0s 2ms/step - loss: 8.2874e-04\n",
      "Epoch 13/65\n",
      "33/33 [==============================] - 0s 2ms/step - loss: 7.4873e-04\n",
      "Epoch 14/65\n",
      "33/33 [==============================] - 0s 2ms/step - loss: 6.6237e-04\n",
      "Epoch 15/65\n",
      "33/33 [==============================] - 0s 3ms/step - loss: 5.8897e-04\n",
      "Epoch 16/65\n",
      "33/33 [==============================] - 0s 2ms/step - loss: 5.2592e-04\n",
      "Epoch 17/65\n",
      "33/33 [==============================] - 0s 2ms/step - loss: 4.5518e-04\n",
      "Epoch 18/65\n",
      "33/33 [==============================] - 0s 2ms/step - loss: 4.3350e-04\n",
      "Epoch 19/65\n",
      "33/33 [==============================] - 0s 2ms/step - loss: 3.4847e-04\n",
      "Epoch 20/65\n",
      "33/33 [==============================] - 0s 2ms/step - loss: 3.0471e-04\n",
      "Epoch 21/65\n",
      "33/33 [==============================] - 0s 2ms/step - loss: 2.7113e-04\n",
      "Epoch 22/65\n",
      "33/33 [==============================] - 0s 2ms/step - loss: 2.3718e-04\n",
      "Epoch 23/65\n",
      "33/33 [==============================] - 0s 4ms/step - loss: 2.1531e-04\n",
      "Epoch 24/65\n",
      "33/33 [==============================] - 0s 3ms/step - loss: 1.8291e-04\n",
      "Epoch 25/65\n",
      "33/33 [==============================] - 0s 3ms/step - loss: 1.7602e-04\n",
      "Epoch 26/65\n",
      "33/33 [==============================] - 0s 2ms/step - loss: 1.5563e-04\n",
      "Epoch 27/65\n",
      "33/33 [==============================] - 0s 2ms/step - loss: 1.3532e-04\n",
      "Epoch 28/65\n",
      "33/33 [==============================] - 0s 2ms/step - loss: 1.1640e-04\n",
      "Epoch 29/65\n",
      "33/33 [==============================] - 0s 2ms/step - loss: 1.1053e-04\n",
      "Epoch 30/65\n",
      "33/33 [==============================] - 0s 3ms/step - loss: 1.0477e-04\n",
      "Epoch 31/65\n",
      "33/33 [==============================] - 0s 2ms/step - loss: 9.8994e-05\n",
      "Epoch 32/65\n",
      "33/33 [==============================] - 0s 2ms/step - loss: 9.2559e-05\n",
      "Epoch 33/65\n",
      "33/33 [==============================] - 0s 2ms/step - loss: 8.9883e-05\n",
      "Epoch 34/65\n",
      "33/33 [==============================] - 0s 2ms/step - loss: 8.4686e-05\n",
      "Epoch 35/65\n",
      "33/33 [==============================] - 0s 3ms/step - loss: 8.4154e-05\n",
      "Epoch 36/65\n",
      "33/33 [==============================] - 0s 3ms/step - loss: 8.7399e-05\n",
      "Epoch 37/65\n",
      "33/33 [==============================] - 0s 3ms/step - loss: 8.4318e-05\n",
      "Epoch 38/65\n",
      "33/33 [==============================] - 0s 3ms/step - loss: 8.2596e-05\n",
      "Epoch 39/65\n",
      "33/33 [==============================] - 0s 3ms/step - loss: 8.0104e-05\n",
      "Epoch 40/65\n",
      "33/33 [==============================] - 0s 3ms/step - loss: 8.4566e-05\n",
      "Epoch 41/65\n",
      "33/33 [==============================] - 0s 3ms/step - loss: 8.0141e-05\n",
      "Epoch 42/65\n",
      "33/33 [==============================] - 0s 3ms/step - loss: 7.7096e-05\n",
      "Epoch 43/65\n",
      "33/33 [==============================] - 0s 3ms/step - loss: 7.6810e-05\n",
      "Epoch 44/65\n",
      "33/33 [==============================] - 0s 2ms/step - loss: 8.2049e-05\n",
      "Epoch 45/65\n",
      "33/33 [==============================] - 0s 3ms/step - loss: 7.7900e-05\n",
      "Epoch 46/65\n",
      "33/33 [==============================] - 0s 4ms/step - loss: 7.4238e-05\n",
      "Epoch 47/65\n",
      "33/33 [==============================] - 0s 4ms/step - loss: 8.0480e-05\n",
      "Epoch 48/65\n",
      "33/33 [==============================] - 0s 2ms/step - loss: 8.0428e-05\n",
      "Epoch 49/65\n",
      "33/33 [==============================] - 0s 3ms/step - loss: 7.8793e-05\n",
      "Epoch 50/65\n",
      "33/33 [==============================] - 0s 2ms/step - loss: 7.9272e-05\n",
      "Epoch 51/65\n",
      "33/33 [==============================] - 0s 3ms/step - loss: 7.9900e-05\n",
      "Epoch 52/65\n",
      "33/33 [==============================] - 0s 3ms/step - loss: 7.7712e-05\n",
      "Epoch 53/65\n",
      "33/33 [==============================] - 0s 2ms/step - loss: 7.6568e-05\n",
      "Epoch 54/65\n",
      "33/33 [==============================] - 0s 2ms/step - loss: 8.2832e-05\n",
      "Epoch 55/65\n",
      "33/33 [==============================] - 0s 2ms/step - loss: 7.5368e-05\n",
      "Epoch 56/65\n",
      "33/33 [==============================] - 0s 2ms/step - loss: 7.7157e-05\n",
      "Epoch 57/65\n",
      "33/33 [==============================] - 0s 4ms/step - loss: 7.9550e-05\n",
      "Epoch 58/65\n",
      "33/33 [==============================] - 0s 3ms/step - loss: 7.7045e-05\n",
      "Epoch 59/65\n",
      "33/33 [==============================] - 0s 2ms/step - loss: 7.7276e-05\n",
      "Epoch 60/65\n",
      "33/33 [==============================] - 0s 2ms/step - loss: 8.1326e-05\n",
      "Epoch 61/65\n",
      "33/33 [==============================] - 0s 2ms/step - loss: 7.5424e-05\n",
      "Epoch 62/65\n",
      "33/33 [==============================] - 0s 3ms/step - loss: 7.8668e-05\n",
      "Epoch 63/65\n",
      "33/33 [==============================] - 0s 3ms/step - loss: 8.3278e-05\n",
      "Epoch 64/65\n",
      "33/33 [==============================] - 0s 3ms/step - loss: 8.2634e-05\n",
      "Epoch 65/65\n",
      "33/33 [==============================] - 0s 2ms/step - loss: 7.7054e-05\n"
     ]
    },
    {
     "data": {
      "text/plain": [
       "<keras.callbacks.callbacks.History at 0x25dd2ec8>"
      ]
     },
     "execution_count": 229,
     "metadata": {},
     "output_type": "execute_result"
    }
   ],
   "source": [
    "model=Sequential()\n",
    "model.add(Dense(1,input_dim=1,activation='relu'))\n",
    "model.add(Dense(1))\n",
    "model.compile(loss='mean_squared_error',optimizer='adam')\n",
    "model.fit(xn,yn,epochs=65,batch_size=1)"
   ]
  },
  {
   "cell_type": "code",
   "execution_count": 230,
   "metadata": {},
   "outputs": [],
   "source": [
    "pred_n=model.predict(xn)\n",
    "pred_t=model.predict(xt)"
   ]
  },
  {
   "cell_type": "code",
   "execution_count": 231,
   "metadata": {},
   "outputs": [],
   "source": [
    "#model.evaluate(xn,yn,verbose=0)"
   ]
  },
  {
   "cell_type": "code",
   "execution_count": 232,
   "metadata": {},
   "outputs": [],
   "source": [
    "pred_n=scale.inverse_transform(pred_n)\n",
    "pred_t=scale.inverse_transform(pred_t)\n",
    "n_y=scale.inverse_transform(yn)\n",
    "t_y=scale.inverse_transform(yt)"
   ]
  },
  {
   "cell_type": "code",
   "execution_count": 233,
   "metadata": {},
   "outputs": [
    {
     "name": "stdout",
     "output_type": "stream",
     "text": [
      "301940106.1190456\n",
      "1233054153.6982892\n"
     ]
    }
   ],
   "source": [
    "print(math.sqrt(mean_squared_error(n_y,pred_n)))\n",
    "print(math.sqrt(mean_squared_error(t_y,pred_t)))"
   ]
  },
  {
   "cell_type": "code",
   "execution_count": 238,
   "metadata": {},
   "outputs": [],
   "source": [
    "a=[pred_t[-1]]\n",
    "b=model.predict(pred_t[-1])\n",
    "for i in range(4):\n",
    "    a.append(b)    \n",
    "    b=model.predict(a[-1][0])    "
   ]
  },
  {
   "cell_type": "code",
   "execution_count": 239,
   "metadata": {},
   "outputs": [
    {
     "name": "stdout",
     "output_type": "stream",
     "text": [
      "[[31753115648.0]\n",
      " [32134932480.0]\n",
      " [32521340928.0]\n",
      " [32912394240.0]\n",
      " [33308149760.0]]\n"
     ]
    }
   ],
   "source": [
    "a=reshape(a,(len(a),1))\n",
    "print(a)"
   ]
  },
  {
   "cell_type": "code",
   "execution_count": 240,
   "metadata": {},
   "outputs": [
    {
     "data": {
      "text/plain": [
       "array([3.1753116e+10], dtype=float32)"
      ]
     },
     "execution_count": 240,
     "metadata": {},
     "output_type": "execute_result"
    }
   ],
   "source": [
    "pred_t[-1]"
   ]
  },
  {
   "cell_type": "code",
   "execution_count": 241,
   "metadata": {
    "scrolled": true
   },
   "outputs": [
    {
     "data": {
      "image/png": "[encoded data removed]",
      "text/plain": [
       "<Figure size 700x500 with 1 Axes>"
      ]
     },
     "metadata": {
      "needs_background": "light"
     },
     "output_type": "display_data"
    }
   ],
   "source": [
    "figure(figsize=(7,5),dpi=100)\n",
    "plot(arange(len(dataset))[:pos],pred_n,c='b',label='train predict')\n",
    "plot(arange(len(dataset))[pos:-2],pred_t,c='g',label='test predict')\n",
    "plot(arange(len(dataset)+(len(a)-3))[-(len(a)):],a,c='r',label='test predict')\n",
    "plot(scale.inverse_transform(X),c='k',label='baseline')\n",
    "xlabel='year'\n",
    "ylabel='no. of passenger'\n",
    "legend(fontsize=14)\n",
    "show()"
   ]
  },
  {
   "cell_type": "code",
   "execution_count": null,
   "metadata": {},
   "outputs": [],
   "source": []
  }
 ],
 "metadata": {
  "kernelspec": {
   "display_name": "Python 3",
   "language": "python",
   "name": "python3"
  },
  "language_info": {
   "codemirror_mode": {
    "name": "ipython",
    "version": 3
   },
   "file_extension": ".py",
   "mimetype": "text/x-python",
   "name": "python",
   "nbconvert_exporter": "python",
   "pygments_lexer": "ipython3",
   "version": "3.7.6"
  }
 },
 "nbformat": 4,
 "nbformat_minor": 4
}
